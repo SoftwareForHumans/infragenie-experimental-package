{
 "cells": [
  {
   "cell_type": "code",
   "execution_count": 1,
   "id": "9328c7f5",
   "metadata": {},
   "outputs": [
    {
     "name": "stdout",
     "output_type": "stream",
     "text": [
      "Requirement already satisfied: numpy in /Users/ricardoferreira/.pyenv/versions/3.10.0/envs/dissertation/lib/python3.10/site-packages (1.23.3)\n",
      "Requirement already satisfied: gspread in /Users/ricardoferreira/.pyenv/versions/3.10.0/envs/dissertation/lib/python3.10/site-packages (5.5.0)\n",
      "Requirement already satisfied: oauth2client in /Users/ricardoferreira/.pyenv/versions/3.10.0/envs/dissertation/lib/python3.10/site-packages (4.1.3)\n",
      "Requirement already satisfied: df2gspread in /Users/ricardoferreira/.pyenv/versions/3.10.0/envs/dissertation/lib/python3.10/site-packages (1.0.4)\n",
      "Requirement already satisfied: pandas in /Users/ricardoferreira/.pyenv/versions/3.10.0/envs/dissertation/lib/python3.10/site-packages (1.4.4)\n",
      "Requirement already satisfied: matplotlib in /Users/ricardoferreira/.pyenv/versions/3.10.0/envs/dissertation/lib/python3.10/site-packages (3.5.3)\n",
      "Requirement already satisfied: seaborn in /Users/ricardoferreira/.pyenv/versions/3.10.0/envs/dissertation/lib/python3.10/site-packages (0.11.2)\n",
      "Requirement already satisfied: pandas-profiling in /Users/ricardoferreira/.pyenv/versions/3.10.0/envs/dissertation/lib/python3.10/site-packages (3.3.0)\n",
      "Requirement already satisfied: PyGithub in /Users/ricardoferreira/.pyenv/versions/3.10.0/envs/dissertation/lib/python3.10/site-packages (1.55)\n",
      "Requirement already satisfied: google-auth>=1.12.0 in /Users/ricardoferreira/.pyenv/versions/3.10.0/envs/dissertation/lib/python3.10/site-packages (from gspread) (2.9.1)\n",
      "Requirement already satisfied: google-auth-oauthlib>=0.4.1 in /Users/ricardoferreira/.pyenv/versions/3.10.0/envs/dissertation/lib/python3.10/site-packages (from gspread) (0.5.2)\n",
      "Requirement already satisfied: pyasn1>=0.1.7 in /Users/ricardoferreira/.pyenv/versions/3.10.0/envs/dissertation/lib/python3.10/site-packages (from oauth2client) (0.4.8)\n",
      "Requirement already satisfied: pyasn1-modules>=0.0.5 in /Users/ricardoferreira/.pyenv/versions/3.10.0/envs/dissertation/lib/python3.10/site-packages (from oauth2client) (0.2.8)\n",
      "Requirement already satisfied: six>=1.6.1 in /Users/ricardoferreira/.pyenv/versions/3.10.0/envs/dissertation/lib/python3.10/site-packages (from oauth2client) (1.16.0)\n",
      "Requirement already satisfied: rsa>=3.1.4 in /Users/ricardoferreira/.pyenv/versions/3.10.0/envs/dissertation/lib/python3.10/site-packages (from oauth2client) (4.9)\n",
      "Requirement already satisfied: httplib2>=0.9.1 in /Users/ricardoferreira/.pyenv/versions/3.10.0/envs/dissertation/lib/python3.10/site-packages (from oauth2client) (0.20.4)\n",
      "Collecting argparse>=1.3.0\n",
      "  Using cached argparse-1.4.0-py2.py3-none-any.whl (23 kB)\n",
      "Requirement already satisfied: google-api-python-client==1.6.7 in /Users/ricardoferreira/.pyenv/versions/3.10.0/envs/dissertation/lib/python3.10/site-packages (from df2gspread) (1.6.7)\n",
      "Requirement already satisfied: uritemplate<4dev,>=3.0.0 in /Users/ricardoferreira/.pyenv/versions/3.10.0/envs/dissertation/lib/python3.10/site-packages (from google-api-python-client==1.6.7->df2gspread) (3.0.1)\n",
      "Requirement already satisfied: python-dateutil>=2.8.1 in /Users/ricardoferreira/.pyenv/versions/3.10.0/envs/dissertation/lib/python3.10/site-packages (from pandas) (2.8.2)\n",
      "Requirement already satisfied: pytz>=2020.1 in /Users/ricardoferreira/.pyenv/versions/3.10.0/envs/dissertation/lib/python3.10/site-packages (from pandas) (2022.1)\n",
      "Requirement already satisfied: fonttools>=4.22.0 in /Users/ricardoferreira/.pyenv/versions/3.10.0/envs/dissertation/lib/python3.10/site-packages (from matplotlib) (4.37.1)\n",
      "Requirement already satisfied: pyparsing>=2.2.1 in /Users/ricardoferreira/.pyenv/versions/3.10.0/envs/dissertation/lib/python3.10/site-packages (from matplotlib) (3.0.8)\n",
      "Requirement already satisfied: cycler>=0.10 in /Users/ricardoferreira/.pyenv/versions/3.10.0/envs/dissertation/lib/python3.10/site-packages (from matplotlib) (0.11.0)\n",
      "Requirement already satisfied: kiwisolver>=1.0.1 in /Users/ricardoferreira/.pyenv/versions/3.10.0/envs/dissertation/lib/python3.10/site-packages (from matplotlib) (1.4.4)\n",
      "Requirement already satisfied: packaging>=20.0 in /Users/ricardoferreira/.pyenv/versions/3.10.0/envs/dissertation/lib/python3.10/site-packages (from matplotlib) (21.3)\n",
      "Requirement already satisfied: pillow>=6.2.0 in /Users/ricardoferreira/.pyenv/versions/3.10.0/envs/dissertation/lib/python3.10/site-packages (from matplotlib) (9.2.0)\n",
      "Requirement already satisfied: scipy>=1.0 in /Users/ricardoferreira/.pyenv/versions/3.10.0/envs/dissertation/lib/python3.10/site-packages (from seaborn) (1.9.1)\n",
      "Requirement already satisfied: joblib~=1.1.0 in /Users/ricardoferreira/.pyenv/versions/3.10.0/envs/dissertation/lib/python3.10/site-packages (from pandas-profiling) (1.1.0)\n",
      "Requirement already satisfied: pydantic<1.10,>=1.8.1 in /Users/ricardoferreira/.pyenv/versions/3.10.0/envs/dissertation/lib/python3.10/site-packages (from pandas-profiling) (1.9.2)\n",
      "Requirement already satisfied: jinja2<3.2,>=2.11.1 in /Users/ricardoferreira/.pyenv/versions/3.10.0/envs/dissertation/lib/python3.10/site-packages (from pandas-profiling) (3.1.2)\n",
      "Requirement already satisfied: htmlmin==0.1.12 in /Users/ricardoferreira/.pyenv/versions/3.10.0/envs/dissertation/lib/python3.10/site-packages (from pandas-profiling) (0.1.12)\n",
      "Requirement already satisfied: multimethod<1.9,>=1.4 in /Users/ricardoferreira/.pyenv/versions/3.10.0/envs/dissertation/lib/python3.10/site-packages (from pandas-profiling) (1.8)\n",
      "Requirement already satisfied: statsmodels<0.14,>=0.13.2 in /Users/ricardoferreira/.pyenv/versions/3.10.0/envs/dissertation/lib/python3.10/site-packages (from pandas-profiling) (0.13.2)\n",
      "Requirement already satisfied: visions[type_image_path]==0.7.5 in /Users/ricardoferreira/.pyenv/versions/3.10.0/envs/dissertation/lib/python3.10/site-packages (from pandas-profiling) (0.7.5)\n",
      "Requirement already satisfied: tangled-up-in-unicode==0.2.0 in /Users/ricardoferreira/.pyenv/versions/3.10.0/envs/dissertation/lib/python3.10/site-packages (from pandas-profiling) (0.2.0)\n",
      "Requirement already satisfied: tqdm<4.65,>=4.48.2 in /Users/ricardoferreira/.pyenv/versions/3.10.0/envs/dissertation/lib/python3.10/site-packages (from pandas-profiling) (4.64.1)\n",
      "Requirement already satisfied: requests<2.29,>=2.24.0 in /Users/ricardoferreira/.pyenv/versions/3.10.0/envs/dissertation/lib/python3.10/site-packages (from pandas-profiling) (2.27.1)\n",
      "Requirement already satisfied: missingno<0.6,>=0.4.2 in /Users/ricardoferreira/.pyenv/versions/3.10.0/envs/dissertation/lib/python3.10/site-packages (from pandas-profiling) (0.5.1)\n",
      "Requirement already satisfied: phik<0.13,>=0.11.1 in /Users/ricardoferreira/.pyenv/versions/3.10.0/envs/dissertation/lib/python3.10/site-packages (from pandas-profiling) (0.12.2)\n",
      "Requirement already satisfied: PyYAML<6.1,>=5.0.0 in /Users/ricardoferreira/.pyenv/versions/3.10.0/envs/dissertation/lib/python3.10/site-packages (from pandas-profiling) (6.0)\n",
      "Requirement already satisfied: attrs>=19.3.0 in /Users/ricardoferreira/.pyenv/versions/3.10.0/envs/dissertation/lib/python3.10/site-packages (from visions[type_image_path]==0.7.5->pandas-profiling) (22.1.0)\n",
      "Requirement already satisfied: networkx>=2.4 in /Users/ricardoferreira/.pyenv/versions/3.10.0/envs/dissertation/lib/python3.10/site-packages (from visions[type_image_path]==0.7.5->pandas-profiling) (2.8.6)\n",
      "Requirement already satisfied: imagehash in /Users/ricardoferreira/.pyenv/versions/3.10.0/envs/dissertation/lib/python3.10/site-packages (from visions[type_image_path]==0.7.5->pandas-profiling) (4.3.0)\n",
      "Requirement already satisfied: pyjwt>=2.0 in /Users/ricardoferreira/.pyenv/versions/3.10.0/envs/dissertation/lib/python3.10/site-packages (from PyGithub) (2.3.0)\n",
      "Requirement already satisfied: pynacl>=1.4.0 in /Users/ricardoferreira/.pyenv/versions/3.10.0/envs/dissertation/lib/python3.10/site-packages (from PyGithub) (1.5.0)\n",
      "Requirement already satisfied: deprecated in /Users/ricardoferreira/.pyenv/versions/3.10.0/envs/dissertation/lib/python3.10/site-packages (from PyGithub) (1.2.13)\n",
      "Requirement already satisfied: cachetools<6.0,>=2.0.0 in /Users/ricardoferreira/.pyenv/versions/3.10.0/envs/dissertation/lib/python3.10/site-packages (from google-auth>=1.12.0->gspread) (5.2.0)\n",
      "Requirement already satisfied: requests-oauthlib>=0.7.0 in /Users/ricardoferreira/.pyenv/versions/3.10.0/envs/dissertation/lib/python3.10/site-packages (from google-auth-oauthlib>=0.4.1->gspread) (1.3.1)\n"
     ]
    },
    {
     "name": "stdout",
     "output_type": "stream",
     "text": [
      "Requirement already satisfied: MarkupSafe>=2.0 in /Users/ricardoferreira/.pyenv/versions/3.10.0/envs/dissertation/lib/python3.10/site-packages (from jinja2<3.2,>=2.11.1->pandas-profiling) (2.1.1)\n",
      "Requirement already satisfied: typing-extensions>=3.7.4.3 in /Users/ricardoferreira/.pyenv/versions/3.10.0/envs/dissertation/lib/python3.10/site-packages (from pydantic<1.10,>=1.8.1->pandas-profiling) (4.3.0)\n",
      "Requirement already satisfied: cffi>=1.4.1 in /Users/ricardoferreira/.pyenv/versions/3.10.0/envs/dissertation/lib/python3.10/site-packages (from pynacl>=1.4.0->PyGithub) (1.15.0)\n",
      "Requirement already satisfied: urllib3<1.27,>=1.21.1 in /Users/ricardoferreira/.pyenv/versions/3.10.0/envs/dissertation/lib/python3.10/site-packages (from requests<2.29,>=2.24.0->pandas-profiling) (1.26.9)\n",
      "Requirement already satisfied: idna<4,>=2.5 in /Users/ricardoferreira/.pyenv/versions/3.10.0/envs/dissertation/lib/python3.10/site-packages (from requests<2.29,>=2.24.0->pandas-profiling) (3.3)\n",
      "Requirement already satisfied: certifi>=2017.4.17 in /Users/ricardoferreira/.pyenv/versions/3.10.0/envs/dissertation/lib/python3.10/site-packages (from requests<2.29,>=2.24.0->pandas-profiling) (2021.10.8)\n",
      "Requirement already satisfied: charset-normalizer~=2.0.0 in /Users/ricardoferreira/.pyenv/versions/3.10.0/envs/dissertation/lib/python3.10/site-packages (from requests<2.29,>=2.24.0->pandas-profiling) (2.0.12)\n",
      "Requirement already satisfied: patsy>=0.5.2 in /Users/ricardoferreira/.pyenv/versions/3.10.0/envs/dissertation/lib/python3.10/site-packages (from statsmodels<0.14,>=0.13.2->pandas-profiling) (0.5.2)\n",
      "Requirement already satisfied: wrapt<2,>=1.10 in /Users/ricardoferreira/.pyenv/versions/3.10.0/envs/dissertation/lib/python3.10/site-packages (from deprecated->PyGithub) (1.14.0)\n",
      "Requirement already satisfied: pycparser in /Users/ricardoferreira/.pyenv/versions/3.10.0/envs/dissertation/lib/python3.10/site-packages (from cffi>=1.4.1->pynacl>=1.4.0->PyGithub) (2.21)\n",
      "Requirement already satisfied: oauthlib>=3.0.0 in /Users/ricardoferreira/.pyenv/versions/3.10.0/envs/dissertation/lib/python3.10/site-packages (from requests-oauthlib>=0.7.0->google-auth-oauthlib>=0.4.1->gspread) (3.2.1)\n",
      "Requirement already satisfied: PyWavelets in /Users/ricardoferreira/.pyenv/versions/3.10.0/envs/dissertation/lib/python3.10/site-packages (from imagehash->visions[type_image_path]==0.7.5->pandas-profiling) (1.3.0)\n",
      "Installing collected packages: argparse\n",
      "Successfully installed argparse-1.4.0\n"
     ]
    },
    {
     "data": {
      "text/plain": [
       "0"
      ]
     },
     "execution_count": 1,
     "metadata": {},
     "output_type": "execute_result"
    }
   ],
   "source": [
    "# Install a pip package in the current Jupyter kernel\n",
    "import subprocess\n",
    "import sys\n",
    "subprocess.call([sys.executable,\"-m\",\"pip\",\"install\",\"numpy\",\"gspread\",\"oauth2client\",\"df2gspread\",\"pandas\",\"matplotlib\",\"seaborn\", \"pandas-profiling\", \"PyGithub\"])\n"
   ]
  },
  {
   "cell_type": "code",
   "execution_count": 141,
   "id": "e8867b0f",
   "metadata": {},
   "outputs": [],
   "source": [
    "import numpy as np\n",
    "import pandas as pd\n",
    "from pandas_profiling import ProfileReport\n",
    "from pandas.api.types import is_numeric_dtype, is_string_dtype\n",
    "import gspread\n",
    "import seaborn\n",
    "import matplotlib.pyplot as plt\n",
    "import matplotlib.patches as mpatches\n",
    "import textwrap\n",
    "from itertools import chain\n",
    "from oauth2client.service_account import ServiceAccountCredentials\n",
    "import time\n",
    "from collections import defaultdict\n",
    "import github\n",
    "from github import Github\n",
    "from github.ContentFile import ContentFile\n",
    "from pathlib import Path"
   ]
  },
  {
   "cell_type": "code",
   "execution_count": 252,
   "id": "cb5ce98c",
   "metadata": {},
   "outputs": [],
   "source": [
    "### Uncomment this only if you need to check the states of multiple PR's\n",
    "### This will generate subsets of the list to comply with the github api rate limits of around 60 per hour\n",
    "\n",
    "    # Check API rate limits: \n",
    "    #    curl -H \"Accept: application/vnd.github+json\" \\\n",
    "    #    -H \"Authorization: Bearer <TOKEN>\" \\\n",
    "    #     https://api.github.com/rate_limit\n",
    "\n",
    "#prs_list = pd.read_csv(\"../collected_data/pull_requests_list.csv\")\n",
    "\n",
    "#dataset_size = prs_list.shape[0]\n",
    "#submissions_per_hour = 29\n",
    "\n",
    "#start_index = 0\n",
    "#end_index = submissions_per_hour\n",
    "\n",
    "#subset_idx = 0\n",
    "#while end_index < dataset_size:\n",
    "#    print(f'Saving subset: {subset_idx} from: {start_index} to: {end_index}')\n",
    "#    subset = prs_list.loc[start_index: end_index]\n",
    "#    filepath = Path(f'../collected_data/subset_{subset_idx}.csv')\n",
    "#    subset.to_csv(filepath)\n",
    "#    start_index = end_index + 1\n",
    "#    end_index = start_index + submissions_per_hour\n",
    "#    subset_idx = subset_idx + 1\n",
    "#\n",
    "#if start_index < dataset_size:\n",
    "#    print(f'Saving subset: {subset_idx} from: {start_index} to: {dataset_size}')\n",
    "#   subset = prs_list.loc[start_index:]\n",
    "#   filepath = Path(f'../collected_data/subset_{subset_idx}.csv')\n",
    "#    subset.to_csv(filepath)\n"
   ]
  },
  {
   "cell_type": "code",
   "execution_count": 251,
   "id": "0c102a79",
   "metadata": {},
   "outputs": [],
   "source": [
    "### Uncomment this only if you need to check the states of multiple PR's\n",
    "### This can be used to process the files generated on the previous step and add the PR state on the CSV file\n",
    "\n",
    "#states = []\n",
    "#prs_list_sub = pd.read_csv(\"../collected_data/subset_10a.csv\")\n",
    "#ACCESS_TOKEN = <YOUR ACCOUNT TOKEN HERE>\n",
    "#filepath = Path('../collected_data/pull_requests_list_with_state_10a.csv')\n",
    "#gh_instance = Github(ACCESS_TOKEN)\n",
    "\n",
    "## This is doing two request: one to get the repo and another to get the pull\n",
    "#sub_sub_list = prs_list_sub['GitHub address'].loc[10:]\n",
    "#sub_sub_list\n",
    "#for pr in prs_list_sub['GitHub address']:\n",
    "#    pull_position = pr.find('pull')\n",
    "#    addrs_size = len('https://github.com/')\n",
    "#    pr_number = int(pr[pull_position + 5:])\n",
    "#    pr_name = pr[addrs_size:pull_position -1]\n",
    "#    repo = gh_instance.get_repo(pr_name)\n",
    "#    pull = repo.get_pull(pr_number)\n",
    "#    raw_data = pull.raw_data\n",
    "#    state = raw_data['state']\n",
    "#    if raw_data['merged']:\n",
    "#        states.append('merged')\n",
    "#        state = 'merged'\n",
    "#    else:\n",
    "#        states.append(state)\n",
    "#    print(f'Fetched::: Name: {pr_name}, Number: {pr_number}, State: {state}')\n",
    "#\n",
    "#prs_list_sub['PR State'] = states\n",
    "#prs_list_sub.to_csv(filepath)"
   ]
  },
  {
   "cell_type": "code",
   "execution_count": 253,
   "id": "5b64349d",
   "metadata": {},
   "outputs": [],
   "source": [
    "### Uncomment this only if you need to check the states of multiple PR's\n",
    "### This will concatenate all the files from the previous steps\n",
    "\n",
    "#import os\n",
    "#\n",
    "#file_paths = os.listdir(\"../collected_data/\")\n",
    "#all_prs_with_state = pd.DataFrame(columns=['GitHub address', 'PR State'])\n",
    "#for file_path in file_paths:\n",
    "#    if 'pull_requests_list_with_state' in file_path:\n",
    "#        pr_batch = pd.read_csv(f'../collected_data/{file_path}')\n",
    "#        all_prs_with_state = pd.concat([all_prs_with_state, pr_batch])\n",
    "#\n",
    "#filepath = Path('../collected_data/pull_requests_list_with_state.csv')\n",
    "#all_prs_with_state.to_csv(filepath)"
   ]
  },
  {
   "cell_type": "code",
   "execution_count": 268,
   "id": "ddd93864",
   "metadata": {},
   "outputs": [],
   "source": [
    "data = pd.read_csv('../collected_data/pull_requests_list_with_state.csv')"
   ]
  },
  {
   "cell_type": "code",
   "execution_count": 283,
   "id": "5181686e",
   "metadata": {},
   "outputs": [
    {
     "data": {
      "text/plain": [
       "defaultdict(list[int], {'open': 197, 'closed': 116, 'merged': 65})"
      ]
     },
     "execution_count": 283,
     "metadata": {},
     "output_type": "execute_result"
    }
   ],
   "source": [
    "# Get all states\n",
    "\n",
    "states_count = defaultdict(list[int])\n",
    "available_states = []\n",
    "for state in data['PR State']:\n",
    "    if state not in available_states:\n",
    "        available_states.append(state)\n",
    "    states_count[state].append(1)\n",
    "\n",
    "for state in available_states:\n",
    "    states_count[state] = sum(states_count[state])\n",
    "    \n",
    "states_count"
   ]
  },
  {
   "cell_type": "code",
   "execution_count": 315,
   "id": "0d20217d",
   "metadata": {},
   "outputs": [],
   "source": [
    "def draw_pie_chart(labels, sizes, explode, path):\n",
    "    size = 0.4\n",
    "    dims = (11.7, 8.27)\n",
    "    fig1, ax1 = plt.subplots(figsize=dims)\n",
    "    cmap = plt.get_cmap(\"tab20c\")\n",
    "    colors = cmap(np.arange(3)*4)\n",
    "    ax1.pie(sizes, explode=explode, labels=labels, autopct='%1.1f%%',\n",
    "        shadow=False, startangle=90, colors=colors, textprops={'size': 'large', 'weight': 'bold'},\n",
    "            wedgeprops=dict(width=size, edgecolor='w'), pctdistance=0.8)\n",
    "    ax1.axis('equal')  # Equal aspect ratio ensures that pie is drawn as a circle.\n",
    "    plt.savefig(path, format='pdf', bbox_inches='tight')\n",
    "    plt.show()"
   ]
  },
  {
   "cell_type": "code",
   "execution_count": 316,
   "id": "28ab961b",
   "metadata": {},
   "outputs": [
    {
     "data": {
      "image/png": "[encoded data removed]",
      "text/plain": [
       "<Figure size 842.4x595.44 with 1 Axes>"
      ]
     },
     "metadata": {},
     "output_type": "display_data"
    }
   ],
   "source": [
    "answers_size = data.shape[0]\n",
    "states_distribution = {key: round(value / answers_size, 2) for key, value in states_count.items()}\n",
    "\n",
    "labels = list(states_distribution.keys()) \n",
    "sizes = list(states_distribution.values())\n",
    "\n",
    "explode = (0, 0, 0.05) # choose which slice to explode\n",
    "\n",
    "filepath = Path('../figures/pr-states-distribution.pdf')\n",
    "draw_pie_chart(labels, sizes, explode, filepath)"
   ]
  }
 ],
 "metadata": {
  "kernelspec": {
   "display_name": "Python 3 (ipykernel)",
   "language": "python",
   "name": "python3"
  },
  "language_info": {
   "codemirror_mode": {
    "name": "ipython",
    "version": 3
   },
   "file_extension": ".py",
   "mimetype": "text/x-python",
   "name": "python",
   "nbconvert_exporter": "python",
   "pygments_lexer": "ipython3",
   "version": "3.10.0"
  }
 },
 "nbformat": 4,
 "nbformat_minor": 5
}
