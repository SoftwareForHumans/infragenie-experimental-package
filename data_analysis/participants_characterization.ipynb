{
 "cells": [
  {
   "cell_type": "code",
   "execution_count": 49,
   "id": "41024747",
   "metadata": {
    "pycharm": {
     "name": "#%%\n"
    }
   },
   "outputs": [
    {
     "name": "stdout",
     "output_type": "stream",
     "text": [
      "Requirement already satisfied: numpy in /Users/ricardoferreira/.pyenv/versions/3.10.0/envs/dissertation/lib/python3.10/site-packages (1.23.3)\n",
      "Requirement already satisfied: gspread in /Users/ricardoferreira/.pyenv/versions/3.10.0/envs/dissertation/lib/python3.10/site-packages (5.5.0)\n",
      "Requirement already satisfied: oauth2client in /Users/ricardoferreira/.pyenv/versions/3.10.0/envs/dissertation/lib/python3.10/site-packages (4.1.3)\n",
      "Requirement already satisfied: df2gspread in /Users/ricardoferreira/.pyenv/versions/3.10.0/envs/dissertation/lib/python3.10/site-packages (1.0.4)\n",
      "Requirement already satisfied: pandas in /Users/ricardoferreira/.pyenv/versions/3.10.0/envs/dissertation/lib/python3.10/site-packages (1.4.4)\n",
      "Requirement already satisfied: matplotlib in /Users/ricardoferreira/.pyenv/versions/3.10.0/envs/dissertation/lib/python3.10/site-packages (3.5.3)\n",
      "Requirement already satisfied: seaborn in /Users/ricardoferreira/.pyenv/versions/3.10.0/envs/dissertation/lib/python3.10/site-packages (0.11.2)\n",
      "Requirement already satisfied: pandas-profiling in /Users/ricardoferreira/.pyenv/versions/3.10.0/envs/dissertation/lib/python3.10/site-packages (3.3.0)\n",
      "Requirement already satisfied: google-auth>=1.12.0 in /Users/ricardoferreira/.pyenv/versions/3.10.0/envs/dissertation/lib/python3.10/site-packages (from gspread) (2.9.1)\n",
      "Requirement already satisfied: google-auth-oauthlib>=0.4.1 in /Users/ricardoferreira/.pyenv/versions/3.10.0/envs/dissertation/lib/python3.10/site-packages (from gspread) (0.5.2)\n",
      "Requirement already satisfied: six>=1.6.1 in /Users/ricardoferreira/.pyenv/versions/3.10.0/envs/dissertation/lib/python3.10/site-packages (from oauth2client) (1.16.0)\n",
      "Requirement already satisfied: pyasn1>=0.1.7 in /Users/ricardoferreira/.pyenv/versions/3.10.0/envs/dissertation/lib/python3.10/site-packages (from oauth2client) (0.4.8)\n",
      "Requirement already satisfied: rsa>=3.1.4 in /Users/ricardoferreira/.pyenv/versions/3.10.0/envs/dissertation/lib/python3.10/site-packages (from oauth2client) (4.9)\n",
      "Requirement already satisfied: httplib2>=0.9.1 in /Users/ricardoferreira/.pyenv/versions/3.10.0/envs/dissertation/lib/python3.10/site-packages (from oauth2client) (0.20.4)\n",
      "Requirement already satisfied: pyasn1-modules>=0.0.5 in /Users/ricardoferreira/.pyenv/versions/3.10.0/envs/dissertation/lib/python3.10/site-packages (from oauth2client) (0.2.8)\n",
      "Collecting argparse>=1.3.0\n",
      "  Using cached argparse-1.4.0-py2.py3-none-any.whl (23 kB)\n",
      "Requirement already satisfied: google-api-python-client==1.6.7 in /Users/ricardoferreira/.pyenv/versions/3.10.0/envs/dissertation/lib/python3.10/site-packages (from df2gspread) (1.6.7)\n",
      "Requirement already satisfied: uritemplate<4dev,>=3.0.0 in /Users/ricardoferreira/.pyenv/versions/3.10.0/envs/dissertation/lib/python3.10/site-packages (from google-api-python-client==1.6.7->df2gspread) (3.0.1)\n",
      "Requirement already satisfied: pytz>=2020.1 in /Users/ricardoferreira/.pyenv/versions/3.10.0/envs/dissertation/lib/python3.10/site-packages (from pandas) (2022.1)\n",
      "Requirement already satisfied: python-dateutil>=2.8.1 in /Users/ricardoferreira/.pyenv/versions/3.10.0/envs/dissertation/lib/python3.10/site-packages (from pandas) (2.8.2)\n",
      "Requirement already satisfied: fonttools>=4.22.0 in /Users/ricardoferreira/.pyenv/versions/3.10.0/envs/dissertation/lib/python3.10/site-packages (from matplotlib) (4.37.1)\n",
      "Requirement already satisfied: pyparsing>=2.2.1 in /Users/ricardoferreira/.pyenv/versions/3.10.0/envs/dissertation/lib/python3.10/site-packages (from matplotlib) (3.0.8)\n",
      "Requirement already satisfied: pillow>=6.2.0 in /Users/ricardoferreira/.pyenv/versions/3.10.0/envs/dissertation/lib/python3.10/site-packages (from matplotlib) (9.2.0)\n",
      "Requirement already satisfied: packaging>=20.0 in /Users/ricardoferreira/.pyenv/versions/3.10.0/envs/dissertation/lib/python3.10/site-packages (from matplotlib) (21.3)\n",
      "Requirement already satisfied: cycler>=0.10 in /Users/ricardoferreira/.pyenv/versions/3.10.0/envs/dissertation/lib/python3.10/site-packages (from matplotlib) (0.11.0)\n",
      "Requirement already satisfied: kiwisolver>=1.0.1 in /Users/ricardoferreira/.pyenv/versions/3.10.0/envs/dissertation/lib/python3.10/site-packages (from matplotlib) (1.4.4)\n",
      "Requirement already satisfied: scipy>=1.0 in /Users/ricardoferreira/.pyenv/versions/3.10.0/envs/dissertation/lib/python3.10/site-packages (from seaborn) (1.9.1)\n",
      "Requirement already satisfied: tqdm<4.65,>=4.48.2 in /Users/ricardoferreira/.pyenv/versions/3.10.0/envs/dissertation/lib/python3.10/site-packages (from pandas-profiling) (4.64.1)\n",
      "Requirement already satisfied: statsmodels<0.14,>=0.13.2 in /Users/ricardoferreira/.pyenv/versions/3.10.0/envs/dissertation/lib/python3.10/site-packages (from pandas-profiling) (0.13.2)\n",
      "Requirement already satisfied: visions[type_image_path]==0.7.5 in /Users/ricardoferreira/.pyenv/versions/3.10.0/envs/dissertation/lib/python3.10/site-packages (from pandas-profiling) (0.7.5)\n",
      "Requirement already satisfied: htmlmin==0.1.12 in /Users/ricardoferreira/.pyenv/versions/3.10.0/envs/dissertation/lib/python3.10/site-packages (from pandas-profiling) (0.1.12)\n",
      "Requirement already satisfied: phik<0.13,>=0.11.1 in /Users/ricardoferreira/.pyenv/versions/3.10.0/envs/dissertation/lib/python3.10/site-packages (from pandas-profiling) (0.12.2)\n",
      "Requirement already satisfied: joblib~=1.1.0 in /Users/ricardoferreira/.pyenv/versions/3.10.0/envs/dissertation/lib/python3.10/site-packages (from pandas-profiling) (1.1.0)\n",
      "Requirement already satisfied: missingno<0.6,>=0.4.2 in /Users/ricardoferreira/.pyenv/versions/3.10.0/envs/dissertation/lib/python3.10/site-packages (from pandas-profiling) (0.5.1)\n",
      "Requirement already satisfied: multimethod<1.9,>=1.4 in /Users/ricardoferreira/.pyenv/versions/3.10.0/envs/dissertation/lib/python3.10/site-packages (from pandas-profiling) (1.8)\n",
      "Requirement already satisfied: tangled-up-in-unicode==0.2.0 in /Users/ricardoferreira/.pyenv/versions/3.10.0/envs/dissertation/lib/python3.10/site-packages (from pandas-profiling) (0.2.0)\n",
      "Requirement already satisfied: pydantic<1.10,>=1.8.1 in /Users/ricardoferreira/.pyenv/versions/3.10.0/envs/dissertation/lib/python3.10/site-packages (from pandas-profiling) (1.9.2)\n",
      "Requirement already satisfied: PyYAML<6.1,>=5.0.0 in /Users/ricardoferreira/.pyenv/versions/3.10.0/envs/dissertation/lib/python3.10/site-packages (from pandas-profiling) (6.0)\n",
      "Requirement already satisfied: jinja2<3.2,>=2.11.1 in /Users/ricardoferreira/.pyenv/versions/3.10.0/envs/dissertation/lib/python3.10/site-packages (from pandas-profiling) (3.1.2)\n",
      "Requirement already satisfied: requests<2.29,>=2.24.0 in /Users/ricardoferreira/.pyenv/versions/3.10.0/envs/dissertation/lib/python3.10/site-packages (from pandas-profiling) (2.27.1)\n",
      "Requirement already satisfied: attrs>=19.3.0 in /Users/ricardoferreira/.pyenv/versions/3.10.0/envs/dissertation/lib/python3.10/site-packages (from visions[type_image_path]==0.7.5->pandas-profiling) (22.1.0)\n",
      "Requirement already satisfied: networkx>=2.4 in /Users/ricardoferreira/.pyenv/versions/3.10.0/envs/dissertation/lib/python3.10/site-packages (from visions[type_image_path]==0.7.5->pandas-profiling) (2.8.6)\n",
      "Requirement already satisfied: imagehash in /Users/ricardoferreira/.pyenv/versions/3.10.0/envs/dissertation/lib/python3.10/site-packages (from visions[type_image_path]==0.7.5->pandas-profiling) (4.3.0)\n",
      "Requirement already satisfied: cachetools<6.0,>=2.0.0 in /Users/ricardoferreira/.pyenv/versions/3.10.0/envs/dissertation/lib/python3.10/site-packages (from google-auth>=1.12.0->gspread) (5.2.0)\n",
      "Requirement already satisfied: requests-oauthlib>=0.7.0 in /Users/ricardoferreira/.pyenv/versions/3.10.0/envs/dissertation/lib/python3.10/site-packages (from google-auth-oauthlib>=0.4.1->gspread) (1.3.1)\n",
      "Requirement already satisfied: MarkupSafe>=2.0 in /Users/ricardoferreira/.pyenv/versions/3.10.0/envs/dissertation/lib/python3.10/site-packages (from jinja2<3.2,>=2.11.1->pandas-profiling) (2.1.1)\n",
      "Requirement already satisfied: typing-extensions>=3.7.4.3 in /Users/ricardoferreira/.pyenv/versions/3.10.0/envs/dissertation/lib/python3.10/site-packages (from pydantic<1.10,>=1.8.1->pandas-profiling) (4.3.0)\n",
      "Requirement already satisfied: certifi>=2017.4.17 in /Users/ricardoferreira/.pyenv/versions/3.10.0/envs/dissertation/lib/python3.10/site-packages (from requests<2.29,>=2.24.0->pandas-profiling) (2021.10.8)\n",
      "Requirement already satisfied: urllib3<1.27,>=1.21.1 in /Users/ricardoferreira/.pyenv/versions/3.10.0/envs/dissertation/lib/python3.10/site-packages (from requests<2.29,>=2.24.0->pandas-profiling) (1.26.9)\n",
      "Requirement already satisfied: idna<4,>=2.5 in /Users/ricardoferreira/.pyenv/versions/3.10.0/envs/dissertation/lib/python3.10/site-packages (from requests<2.29,>=2.24.0->pandas-profiling) (3.3)\n",
      "Requirement already satisfied: charset-normalizer~=2.0.0 in /Users/ricardoferreira/.pyenv/versions/3.10.0/envs/dissertation/lib/python3.10/site-packages (from requests<2.29,>=2.24.0->pandas-profiling) (2.0.12)\n",
      "Requirement already satisfied: patsy>=0.5.2 in /Users/ricardoferreira/.pyenv/versions/3.10.0/envs/dissertation/lib/python3.10/site-packages (from statsmodels<0.14,>=0.13.2->pandas-profiling) (0.5.2)\n",
      "Requirement already satisfied: oauthlib>=3.0.0 in /Users/ricardoferreira/.pyenv/versions/3.10.0/envs/dissertation/lib/python3.10/site-packages (from requests-oauthlib>=0.7.0->google-auth-oauthlib>=0.4.1->gspread) (3.2.1)\n"
     ]
    },
    {
     "name": "stdout",
     "output_type": "stream",
     "text": [
      "Requirement already satisfied: PyWavelets in /Users/ricardoferreira/.pyenv/versions/3.10.0/envs/dissertation/lib/python3.10/site-packages (from imagehash->visions[type_image_path]==0.7.5->pandas-profiling) (1.3.0)\n",
      "Installing collected packages: argparse\n",
      "Successfully installed argparse-1.4.0\n"
     ]
    },
    {
     "data": {
      "text/plain": [
       "0"
      ]
     },
     "execution_count": 49,
     "metadata": {},
     "output_type": "execute_result"
    }
   ],
   "source": [
    "# Install a pip package in the current Jupyter kernel\n",
    "import subprocess\n",
    "import sys\n",
    "subprocess.call([sys.executable,\"-m\",\"pip\",\"install\",\"numpy\",\"gspread\",\"oauth2client\",\"df2gspread\",\"pandas\",\"matplotlib\",\"seaborn\", \"pandas-profiling\"])\n"
   ]
  },
  {
   "cell_type": "code",
   "execution_count": 50,
   "id": "add29761",
   "metadata": {
    "pycharm": {
     "name": "#%%\n"
    }
   },
   "outputs": [],
   "source": [
    "import numpy as np\n",
    "import pandas as pd\n",
    "from pandas_profiling import ProfileReport\n",
    "from pandas.api.types import is_numeric_dtype, is_string_dtype\n",
    "import gspread\n",
    "import seaborn\n",
    "import matplotlib.pyplot as plt\n",
    "import matplotlib.patches as mpatches\n",
    "import textwrap\n",
    "from itertools import chain\n",
    "from oauth2client.service_account import ServiceAccountCredentials\n",
    "import time\n",
    "from collections import defaultdict\n",
    "from pathlib import Path"
   ]
  },
  {
   "cell_type": "code",
   "execution_count": 51,
   "id": "0cf69ac1",
   "metadata": {
    "pycharm": {
     "name": "#%%\n"
    }
   },
   "outputs": [],
   "source": [
    "pd.set_option('display.max_rows', 6000)\n",
    "pd.set_option('display.max_columns', 6000)\n",
    "pd.set_option('display.width', 6000)\n",
    "pd.options.display.max_colwidth = 0"
   ]
  },
  {
   "cell_type": "code",
   "execution_count": 6,
   "id": "e7e21667",
   "metadata": {
    "pycharm": {
     "name": "#%%\n"
    }
   },
   "outputs": [],
   "source": [
    "data = pd.read_csv(\"../collected_data/raw_results.csv\")\n",
    "# ProfileReport(data)\n",
    "\n",
    "def get_column_full_name(keyword_on_column):\n",
    "    for column in data.columns:\n",
    "        if keyword_on_column in column:\n",
    "            return column\n"
   ]
  },
  {
   "cell_type": "code",
   "execution_count": 28,
   "id": "fab6e0da",
   "metadata": {
    "pycharm": {
     "name": "#%%\n"
    }
   },
   "outputs": [],
   "source": [
    "def plot_horizontal_distribution(results, category_names, legend_lines, legend_anchor):\n",
    "    labels = list(results.keys())\n",
    "    data = np.array(list(results.values()))\n",
    "    data_cum = data.cumsum(axis=1)\n",
    "    category_colors = plt.get_cmap('tab20c')(\n",
    "        np.linspace(0.15, 0.85, data.shape[1]))\n",
    "\n",
    "    fig, ax = plt.subplots(figsize=(12.2, 1))\n",
    "    ax.invert_yaxis()\n",
    "    ax.xaxis.set_visible(False)\n",
    "    ax.set_xlim(0, np.sum(data, axis=1).max())\n",
    "\n",
    "    for i, (colname, color) in enumerate(zip(category_names, category_colors)):\n",
    "        widths = data[:, i]\n",
    "        starts = data_cum[:, i] - widths\n",
    "        ax.barh(labels, widths, left=starts, height=0.9,\n",
    "                label=colname, color=color)\n",
    "        xcenters = starts + widths / 2\n",
    "\n",
    "        r, g, b, _ = color\n",
    "        text_color = 'white' if r * g * b < 0.5 else 'darkgrey'\n",
    "        for y, (x, c) in enumerate(zip(xcenters, widths)):\n",
    "            ax.text(x, y, str(int(c)) + '%', ha='center', va='center',\n",
    "                    color=text_color, fontsize='medium')\n",
    "    ax.legend(ncol=int(len(category_names) / legend_lines), bbox_to_anchor=legend_anchor,\n",
    "              loc='lower left', fontsize='medium')\n",
    "\n",
    "    return fig, ax"
   ]
  },
  {
   "cell_type": "code",
   "execution_count": 29,
   "id": "3d2877c5",
   "metadata": {
    "pycharm": {
     "name": "#%%\n"
    }
   },
   "outputs": [],
   "source": [
    "# countries\n",
    "countries = data['Country']\n",
    "results_size = len(countries)\n",
    "occurrences = defaultdict(int)\n",
    "\n",
    "for country in countries:\n",
    "    if occurrences[country]:\n",
    "        occurrences[country] = occurrences[country] + 1\n",
    "    else:\n",
    "        occurrences[country] = 1\n",
    "\n",
    "distribution = {key: int(round(value / results_size, 2) * 100) for key, value in occurrences.items()}\n",
    "sorted_distribution = dict(sorted(distribution.items(), key=lambda item: item[1], reverse=True))"
   ]
  },
  {
   "cell_type": "code",
   "execution_count": 36,
   "id": "34e6920f",
   "metadata": {
    "pycharm": {
     "name": "#%%\n"
    }
   },
   "outputs": [
    {
     "data": {
      "image/png": "[encoded data removed]",
      "text/plain": [
       "<Figure size 878.4x72 with 1 Axes>"
      ]
     },
     "metadata": {
      "needs_background": "light"
     },
     "output_type": "display_data"
    }
   ],
   "source": [
    "category_names = list(sorted_distribution.keys())\n",
    "results = {\n",
    "    '': list(sorted_distribution.values())\n",
    "}\n",
    "\n",
    "plot_horizontal_distribution(results, category_names, 4, (0.02, -1.4))\n",
    "\n",
    "filepath = Path('../figures/dist_country.pdf')\n",
    "plt.savefig(filepath, format='pdf', bbox_inches='tight')\n",
    "plt.show()\n",
    "\n"
   ]
  },
  {
   "cell_type": "code",
   "execution_count": 45,
   "id": "6185de98",
   "metadata": {
    "pycharm": {
     "name": "#%%\n"
    }
   },
   "outputs": [
    {
     "data": {
      "image/png": "[encoded data removed]",
      "text/plain": [
       "<Figure size 878.4x72 with 1 Axes>"
      ]
     },
     "metadata": {
      "needs_background": "light"
     },
     "output_type": "display_data"
    }
   ],
   "source": [
    "# Education level\n",
    "def translate_level(level):\n",
    "    if 'Primary' in level:\n",
    "        return \"Primary school\"\n",
    "    elif 'Secondary' in level:\n",
    "        return \"Secondary school\"\n",
    "    elif 'college' in level:\n",
    "        return \"University study without degree\"\n",
    "    elif 'Bachelor' in level:\n",
    "        return \"Bachelor's degree\"\n",
    "    elif 'Master' in level:\n",
    "        return \"Master's degree\"\n",
    "    elif 'Doctoral' in level:\n",
    "        return \"Doctoral degree\"\n",
    "    else:\n",
    "        return 'Other'\n",
    "        \n",
    "\n",
    "\n",
    "education_levels = data['Educational attainment']\n",
    "education_answers_size = len(education_levels)\n",
    "education_occurrences = defaultdict(int)\n",
    "\n",
    "for edl in education_levels:\n",
    "    level = translate_level(edl)\n",
    "    if education_occurrences[level]:\n",
    "        education_occurrences[level] = education_occurrences[level] + 1\n",
    "    else:\n",
    "        education_occurrences[level] = 1\n",
    "\n",
    "education_distribution = {key: round((value / education_answers_size), 2) * 100 for key, value in education_occurrences.items()}\n",
    "education_sorted_distribution = dict(sorted(education_distribution.items(), key=lambda item: item[1], reverse=True))\n",
    "\n",
    "edu_category_names = list(education_sorted_distribution.keys())\n",
    "edu_results = {\n",
    "    '': list(education_sorted_distribution.values())\n",
    "}\n",
    "\n",
    "plot_horizontal_distribution(edu_results, edu_category_names, 1, (0.15, -0.6))\n",
    "filepath = Path('../figures/edu_attainment.pdf')\n",
    "plt.savefig(filepath, format='pdf', bbox_inches='tight')\n",
    "plt.show()"
   ]
  },
  {
   "cell_type": "code",
   "execution_count": 46,
   "id": "4c4b5d8a",
   "metadata": {
    "pycharm": {
     "name": "#%%\n"
    }
   },
   "outputs": [
    {
     "data": {
      "image/png": "[encoded data removed]",
      "text/plain": [
       "<Figure size 878.4x72 with 1 Axes>"
      ]
     },
     "metadata": {
      "needs_background": "light"
     },
     "output_type": "display_data"
    }
   ],
   "source": [
    "# Area of study\n",
    "\n",
    "def translate_to_computer_science(area):\n",
    "    similar_areas = ['Computer', 'computer', 'Computation', 'computation', 'Informatics', 'informatics',\n",
    "                     'Software', 'software', 'IT', 'informatic', 'Information', 'information']\n",
    "    \n",
    "    if any(x in area for x in similar_areas):\n",
    "        return 'Computer Science'\n",
    "    else:\n",
    "        return 'Other'\n",
    "\n",
    "\n",
    "study_area_column_name = get_column_full_name('study')\n",
    "study_areas = data[study_area_column_name]\n",
    "study_areas_answers = len(study_areas)\n",
    "areas_occurrences = defaultdict(int)\n",
    "\n",
    "for area in study_areas:\n",
    "    translated_area = translate_to_computer_science(area)\n",
    "    if areas_occurrences[translated_area]:\n",
    "        areas_occurrences[translated_area] = areas_occurrences[translated_area] + 1\n",
    "    else:\n",
    "        areas_occurrences[translated_area] = 1\n",
    "\n",
    "area_distribution = {key: (value / study_areas_answers) * 100 for key, value in areas_occurrences.items()}\n",
    "area_distribution_sorted = dict(sorted(area_distribution.items(), key=lambda item: item[1], reverse=True))\n",
    "\n",
    "areas_names = list(area_distribution_sorted.keys())\n",
    "area_results = {\n",
    "    '': list(area_distribution_sorted.values())\n",
    "}\n",
    "\n",
    "plot_horizontal_distribution(area_results, areas_names, 1, (0.35, -0.5))\n",
    "filepath = Path('../figures/area_study.pdf')\n",
    "plt.savefig(filepath, format='pdf', bbox_inches='tight')\n",
    "plt.show()\n"
   ]
  },
  {
   "cell_type": "code",
   "execution_count": 48,
   "id": "636a4184",
   "metadata": {
    "pycharm": {
     "name": "#%%\n"
    }
   },
   "outputs": [
    {
     "data": {
      "image/png": "[encoded data removed]",
      "text/plain": [
       "<Figure size 878.4x72 with 1 Axes>"
      ]
     },
     "metadata": {
      "needs_background": "light"
     },
     "output_type": "display_data"
    }
   ],
   "source": [
    "profexp_column_name = get_column_full_name('Professional')\n",
    "prof_exp_options = data[profexp_column_name]\n",
    "prof_exp_answers = len(prof_exp_options)\n",
    "prof_exp_occ = defaultdict(int)\n",
    "\n",
    "def get_prof_item_order(item):\n",
    "    if '1 to 4' in item:\n",
    "        return 1\n",
    "    elif '5 to 9' in item:\n",
    "        return 2\n",
    "    elif '10 to 14' in item:\n",
    "        return 3\n",
    "    elif '15' in item:\n",
    "        return 4\n",
    "    else:\n",
    "        return 0\n",
    "\n",
    "for prof_exp in prof_exp_options:\n",
    "    if prof_exp_occ[prof_exp]:\n",
    "        prof_exp_occ[prof_exp] = prof_exp_occ[prof_exp] + 1\n",
    "    else:\n",
    "        prof_exp_occ[prof_exp] = 1\n",
    "\n",
    "prof_exp_dist = {key: round((value / prof_exp_answers), 2) * 100 for key, value in prof_exp_occ.items()}\n",
    "prof_exp_dist_sorted = dict(sorted(prof_exp_dist.items(), key=lambda item: get_prof_item_order(item[0])))\n",
    "#prof_exp_dist_sorted = prof_exp_dist\n",
    "\n",
    "prof_exp_names = list(prof_exp_dist_sorted.keys())\n",
    "prof_exp_values = {\n",
    "    '': list(prof_exp_dist_sorted.values())\n",
    "}\n",
    "\n",
    "plot_horizontal_distribution(prof_exp_values, prof_exp_names, 1, (0.20, -0.5))\n",
    "filepath = Path('../figures/professional_experience.pdf')\n",
    "plt.savefig(filepath, format='pdf', bbox_inches='tight')\n",
    "plt.show()"
   ]
  }
 ],
 "metadata": {
  "kernelspec": {
   "display_name": "Python 3 (ipykernel)",
   "language": "python",
   "name": "python3"
  },
  "language_info": {
   "codemirror_mode": {
    "name": "ipython",
    "version": 3
   },
   "file_extension": ".py",
   "mimetype": "text/x-python",
   "name": "python",
   "nbconvert_exporter": "python",
   "pygments_lexer": "ipython3",
   "version": "3.10.0"
  }
 },
 "nbformat": 4,
 "nbformat_minor": 5
}
